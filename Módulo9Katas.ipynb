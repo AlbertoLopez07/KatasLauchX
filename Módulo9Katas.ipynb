{
  "cells": [
    {
      "cell_type": "markdown",
      "metadata": {},
      "source": [
        "## Ejercicio 1"
      ]
    },
    {
      "cell_type": "code",
      "execution_count": 3,
      "metadata": {},
      "outputs": [],
      "source": [
        "def generate_report(main_tank, external_tank, hydrogen_tank):\n",
        "    total_average = (main_tank + external_tank + hydrogen_tank) / 3\n",
        "    return f\"\"\"Reporte de combustible:\n",
        "    Total Average: {total_average}%\n",
        "    Tanque principal: {main_tank}%\n",
        "    Tanque externo: {external_tank}%\n",
        "    Tanque de Hidrógeno: {hydrogen_tank}% \n",
        "    \"\"\"\n"
      ]
    },
    {
      "cell_type": "code",
      "execution_count": 4,
      "metadata": {},
      "outputs": [
        {
          "name": "stdout",
          "output_type": "stream",
          "text": [
            "Reporte de combustible:\n",
            "    Total Average: 78.33333333333333%\n",
            "    Tanque principal: 80%\n",
            "    Tanque externo: 70%\n",
            "    Tanque de Hidrógeno: 85% \n",
            "    \n"
          ]
        }
      ],
      "source": [
        "print(generate_report(80, 70, 85))"
      ]
    },
    {
      "cell_type": "code",
      "execution_count": 5,
      "metadata": {},
      "outputs": [
        {
          "data": {
            "text/plain": [
              "82.0"
            ]
          },
          "execution_count": 5,
          "metadata": {},
          "output_type": "execute_result"
        }
      ],
      "source": [
        "def average(values):\n",
        "    total = sum(values)\n",
        "    number_of_items = len(values)\n",
        "    return total / number_of_items\n",
        "\n",
        "average([80, 85, 81]) "
      ]
    },
    {
      "cell_type": "code",
      "execution_count": 9,
      "metadata": {},
      "outputs": [
        {
          "name": "stdout",
          "output_type": "stream",
          "text": [
            "Reporte de combustible:\n",
            "    Total Average: 78.0%\n",
            "    Tanque principal: 88%\n",
            "    Tanque externo: 76%\n",
            "    Tanque de Hidrógeno: 70% \n",
            "    \n"
          ]
        }
      ],
      "source": [
        "def generate_report(main_tank, external_tank, hydrogen_tank):\n",
        "    return f\"\"\"Reporte de combustible:\n",
        "    Total Average: {average([main_tank, external_tank, hydrogen_tank])}%\n",
        "    Tanque principal: {main_tank}%\n",
        "    Tanque externo: {external_tank}%\n",
        "    Tanque de Hidrógeno: {hydrogen_tank}% \n",
        "    \"\"\"\n",
        "\n",
        "print(generate_report(88, 76, 70))"
      ]
    },
    {
      "cell_type": "markdown",
      "metadata": {},
      "source": [
        "### Ejercicio 2:"
      ]
    },
    {
      "cell_type": "code",
      "execution_count": 12,
      "metadata": {},
      "outputs": [
        {
          "name": "stdout",
          "output_type": "stream",
          "text": [
            "\n",
            "    Misión a Luna\n",
            "    Tiempo total de viaje 65 minutos\n",
            "    Combustible restante: 500000 galones\n",
            "    \n"
          ]
        }
      ],
      "source": [
        "def mission_report(pre_launch_time, flight_time, destination, external_tank, main_tank):\n",
        "    return f\"\"\"\n",
        "    Misión a {destination}\n",
        "    Tiempo total de viaje {pre_launch_time + flight_time} minutos\n",
        "    Combustible restante: {external_tank + main_tank} galones\n",
        "    \"\"\"\n",
        "\n",
        "print(mission_report(14, 51, \"Luna\", 200000, 300000))"
      ]
    },
    {
      "cell_type": "code",
      "execution_count": 14,
      "metadata": {},
      "outputs": [
        {
          "name": "stdout",
          "output_type": "stream",
          "text": [
            "\n",
            "    Misión a Luna\n",
            "    Tiempo total de viaje: 76 minutos\n",
            "    Combustible restante: 500000 galones\n",
            "    \n"
          ]
        }
      ],
      "source": [
        "def mission_report(destination, *minutes, **fuel_reservoirs):\n",
        "    return f\"\"\"\n",
        "    Misión a {destination}\n",
        "    Tiempo total de viaje: {sum(minutes)} minutos\n",
        "    Combustible restante: {sum(fuel_reservoirs.values())} galones\n",
        "    \"\"\"\n",
        "\n",
        "print(mission_report(\"Luna\", 10, 15, 51, main=300000, external=200000))"
      ]
    },
    {
      "cell_type": "code",
      "execution_count": 18,
      "metadata": {},
      "outputs": [
        {
          "name": "stdout",
          "output_type": "stream",
          "text": [
            "\n",
            "    Misión a Luna\n",
            "    Tiempo total de viaje: 74 minutos\n",
            "    Combustible restante: 500000 galones\n",
            "    tanque main --> 300000 galones restantes\n",
            "tanque external --> 200000 galones restantes\n",
            "\n"
          ]
        }
      ],
      "source": [
        "def mission_report(destination, *minutes, **fuel_reservoirs):\n",
        "    main_report = f\"\"\"\n",
        "    Misión a {destination}\n",
        "    Tiempo total de viaje: {sum(minutes)} minutos\n",
        "    Combustible restante: {sum(fuel_reservoirs.values())} galones\n",
        "    \"\"\"\n",
        "    for tank_name, gallons in fuel_reservoirs.items():\n",
        "        main_report += f\"tanque {tank_name} --> {gallons} galones restantes\\n\"\n",
        "    return main_report\n",
        "\n",
        "print(mission_report(\"Luna\", 8, 11, 55, main=300000, external=200000))"
      ]
    }
  ],
  "metadata": {
    "interpreter": {
      "hash": "205095b8b86ea82a021a8fc2ffba2b3bc9f8d0be25999901963b225939f75778"
    },
    "kernelspec": {
      "display_name": "Python 3.8.10 64-bit ('tmp': conda)",
      "name": "python3"
    },
    "language_info": {
      "codemirror_mode": {
        "name": "ipython",
        "version": 3
      },
      "file_extension": ".py",
      "mimetype": "text/x-python",
      "name": "python",
      "nbconvert_exporter": "python",
      "pygments_lexer": "ipython3",
      "version": "3.10.2"
    },
    "nteract": {
      "version": "nteract-front-end@1.0.0"
    },
    "orig_nbformat": 4
  },
  "nbformat": 4,
  "nbformat_minor": 2
}
