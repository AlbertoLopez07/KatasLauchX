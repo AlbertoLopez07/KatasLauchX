{
  "cells": [
    {
      "cell_type": "markdown",
      "metadata": {},
      "source": [
        "Ejercicio 1"
      ]
    },
    {
      "cell_type": "code",
      "execution_count": 6,
      "metadata": {},
      "outputs": [
        {
          "name": "stdout",
          "output_type": "stream",
          "text": [
            "Todo va bien :D\n"
          ]
        }
      ],
      "source": [
        "asteroide=12\n",
        "if asteroide > 25:\n",
        "    print ('¡Alerta! ¡un asteoreide está cerca!')\n",
        "else:\n",
        "        print ('Todo va bien :D')\n"
      ]
    },
    {
      "cell_type": "markdown",
      "metadata": {},
      "source": [
        "Ejercicio 2"
      ]
    },
    {
      "cell_type": "code",
      "execution_count": 8,
      "metadata": {},
      "outputs": [
        {
          "name": "stdout",
          "output_type": "stream",
          "text": [
            "¡Todo va bien!\n"
          ]
        }
      ],
      "source": [
        "asteroide = 13\n",
        "if asteroide > 20:\n",
        "    print('¡Cuidado! ¡Hay una luz mágica en el cielo!')\n",
        "elif asteroide == 20:\n",
        "    print('¡Cuidado! ¡Hay una luz mágica en el cielo!')\n",
        "else:\n",
        "    print('¡Todo va bien!')"
      ]
    },
    {
      "cell_type": "markdown",
      "metadata": {},
      "source": [
        "Ejercicio 3"
      ]
    },
    {
      "cell_type": "code",
      "execution_count": 11,
      "metadata": {},
      "outputs": [
        {
          "name": "stdout",
          "output_type": "stream",
          "text": [
            "Todo va súper bien :D\n"
          ]
        }
      ],
      "source": [
        "velocidad_asteroide = 2\n",
        "tamano_asteroide = 20\n",
        "if velocidad_asteroide > 25 and tamano_asteroide > 25:\n",
        "    print('¡Alerta máxima! ¡Un asteroide muy peligroso viene hacia nosotros!')\n",
        "elif velocidad_asteroide >= 20:\n",
        "     print('¡Cuidado! ¡Hay una luz mágica en el cielo!')\n",
        "elif tamano_asteroide < 25:\n",
        "    print('Todo va súper bien :D')\n",
        "else:\n",
        "    print('Nada que ver aquí :)')"
      ]
    }
  ],
  "metadata": {
    "interpreter": {
      "hash": "916dbcbb3f70747c44a77c7bcd40155683ae19c65e1c03b4aa3499c5328201f1"
    },
    "kernel_info": {
      "name": "conda-env-py37_default-py"
    },
    "kernelspec": {
      "display_name": "py37_default",
      "language": "python",
      "name": "python3"
    },
    "language_info": {
      "codemirror_mode": {
        "name": "ipython",
        "version": 3
      },
      "file_extension": ".py",
      "mimetype": "text/x-python",
      "name": "python",
      "nbconvert_exporter": "python",
      "pygments_lexer": "ipython3",
      "version": "3.10.2"
    },
    "nteract": {
      "version": "nteract-front-end@1.0.0"
    },
    "orig_nbformat": 4
  },
  "nbformat": 4,
  "nbformat_minor": 2
}
